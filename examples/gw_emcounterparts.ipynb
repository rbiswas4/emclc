{
 "cells": [
  {
   "cell_type": "code",
   "execution_count": 1,
   "metadata": {
    "collapsed": true
   },
   "outputs": [],
   "source": [
    "import numpy as np\n",
    "import pandas as pd"
   ]
  },
  {
   "cell_type": "code",
   "execution_count": 2,
   "metadata": {
    "collapsed": true
   },
   "outputs": [],
   "source": [
    "%matplotlib inline\n",
    "import matplotlib.pyplot as plt\n",
    "import seaborn as sns\n",
    "sns.set_style('whitegrid')\n",
    "sns.set_context('talk')"
   ]
  },
  {
   "cell_type": "code",
   "execution_count": 3,
   "metadata": {
    "collapsed": true
   },
   "outputs": [],
   "source": [
    "import sncosmo\n",
    "import analyzeSN as ans\n",
    "import opsimsummary as oss"
   ]
  },
  {
   "cell_type": "code",
   "execution_count": 4,
   "metadata": {
    "collapsed": true
   },
   "outputs": [],
   "source": [
    "from lsst.sims.catUtils.supernovae import SNObject\n",
    "from lsst.sims.photUtils import BandpassDict"
   ]
  },
  {
   "cell_type": "code",
   "execution_count": 5,
   "metadata": {
    "collapsed": true
   },
   "outputs": [],
   "source": [
    "from varsim import BasePopulation, BasicSimulation, BaseModel"
   ]
  },
  {
   "cell_type": "code",
   "execution_count": 15,
   "metadata": {
    "collapsed": true
   },
   "outputs": [],
   "source": [
    "from astropy.cosmology import Planck15 as cosmo"
   ]
  },
  {
   "cell_type": "code",
   "execution_count": 6,
   "metadata": {
    "collapsed": false
   },
   "outputs": [
    {
     "name": "stdout",
     "output_type": "stream",
     "text": [
      " reading from database sqlite:////Users/rbiswas/data/LSST/OpSimData/minion_1016_sqlite.db\n",
      "SELECT * FROM Summary WHERE PROPID in (56, 54)\n"
     ]
    },
    {
     "name": "stderr",
     "output_type": "stream",
     "text": [
      "/Users/rbiswas/soft/LSST/DarwinX86/miniconda2/4.2.12.lsst1/lib/python2.7/site-packages/pandas/core/indexing.py:476: SettingWithCopyWarning: \n",
      "A value is trying to be set on a copy of a slice from a DataFrame.\n",
      "Try using .loc[row_indexer,col_indexer] = value instead\n",
      "\n",
      "See the caveats in the documentation: http://pandas.pydata.org/pandas-docs/stable/indexing.html#indexing-view-versus-copy\n",
      "  self.obj[item] = s\n"
     ]
    }
   ],
   "source": [
    "opsout = oss.OpSimOutput.fromOpSimDB('/Users/rbiswas/data/LSST/OpSimData/minion_1016_sqlite.db')"
   ]
  },
  {
   "cell_type": "code",
   "execution_count": 7,
   "metadata": {
    "collapsed": true
   },
   "outputs": [],
   "source": [
    "pointings = opsout.summary.query('fieldID == 1447')\n",
    "ddfpointings = opsout.summary.query('fieldID == 1427')"
   ]
  },
  {
   "cell_type": "markdown",
   "metadata": {},
   "source": [
    "## Define the light curves of EM counterparts to GW "
   ]
  },
  {
   "cell_type": "code",
   "execution_count": 70,
   "metadata": {
    "collapsed": true
   },
   "outputs": [],
   "source": [
    "# Data dir from Ulrich Feindt's repository\n",
    "data_dir = '/Users/rbiswas/doc/projects/macronovae-rosswog/data/'"
   ]
  },
  {
   "cell_type": "code",
   "execution_count": 71,
   "metadata": {
    "collapsed": true
   },
   "outputs": [],
   "source": [
    "class GWModel(BaseModel):\n",
    "    def __init__(self, cosmo):\n",
    "        self.t0 = None\n",
    "        self.f = None\n",
    "        self._maxday = None\n",
    "        self._minday = None\n",
    "        self.z = None\n",
    "        self.source = None\n",
    "        self.gwmodel = None\n",
    "        self.amp = None\n",
    "        self.cosmo = cosmo\n",
    "        \n",
    "    def setModelParameters(self, params):\n",
    "        \n",
    "        self.t0 = params['t0']\n",
    "        self._maxday = params['maxDay'] \n",
    "        self._minday = params['minDay']\n",
    "        self.z = params['z']\n",
    "        self.ModelName = params['name']\n",
    "        self.rpeak = params['rpeak']\n",
    "        phase, wave, flux = sncosmo.read_griddata_ascii(data_dir + '/' + self.ModelName)\n",
    "        self.source = sncosmo.TimeSeriesSource(phase, wave, flux, zero_before=0.)\n",
    "        sourcepeak = self.source.peakmag('lsstr', 'ab', sampling=0.1)\n",
    "        dl = cosmo.luminosity_distance(params['z']).value\n",
    "        r = dl / 1.0e-5\n",
    "        amp = self._getAmp(self.rpeak, sourcepeak) \n",
    "        amp = amp / r / r\n",
    "        self.gwmodel = sncosmo.Model(source=self.source)\n",
    "        self.amp = amp\n",
    "        print(amp)\n",
    "        self.gwmodel.set(**dict(t0=self.t0, amplitude=amp))\n",
    "        return\n",
    "    \n",
    "    @property\n",
    "    def minMjd(self):\n",
    "        return self._minMjd\n",
    "    \n",
    "    @property\n",
    "    def maxMjd(self):\n",
    "        return self._maxday + self.t0\n",
    "    \n",
    "    @property\n",
    "    def minMjd(self):\n",
    "        return self._minday + self.t0\n",
    "    \n",
    "    def _getAmp(self, rpeak, magfound):\n",
    "        return 10.0**(-0.4*(rpeak - magfound))\n",
    "    \n",
    "    def modelFlux(self, mjd, bandpassobj):#, filtername=None):\n",
    "        #d = mjd[(mjd > self.minMjd) & (mjd < self.maxMjd)]\n",
    "        #bandpassname = bandpassobj.bandpassname[-5]\n",
    "        #vals = self.gwmodel.bandflux('lsst' + bandpassname, time=mjd, zp=0, zpsys='ab')\n",
    "        vals = self.gwmodel.bandflux(bandpassobj, time=mjd, zp=0, zpsys='ab')\n",
    "        return max(vals, 0)"
   ]
  },
  {
   "cell_type": "code",
   "execution_count": 72,
   "metadata": {
    "collapsed": true
   },
   "outputs": [],
   "source": [
    "# This is how I would like to define a population. For what we are doing this is overkill, but this is what I would \n",
    "# like to define \n",
    "class GWPopulation(BasePopulation):\n",
    "    def __init__(self):\n",
    "        self.t0 = [59853., 59852.05]\n",
    "        self.maxDay = [50., 50.]\n",
    "        self.minDay = [0.00, 0.00]\n",
    "        self.z = [0.1, 0.3]\n",
    "        self.name = ['SED_FRDM_NSBH3.dat', 'SED_FRDM_NSBH3.dat']\n",
    "        self.rpeak = [-11.4, -14.2]\n",
    "        \n",
    "    def modelparams(self, idx):\n",
    "        return dict(t0=self.t0[idx], maxDay=self.maxDay[idx], minDay=self.minDay[idx], z=self.z[idx],\n",
    "                    name=self.name[idx], rpeak=self.rpeak[idx])\n",
    "    @property\n",
    "    def idxvalues(self):\n",
    "        return (x for x in (0, 1))\n",
    "    @property\n",
    "    def numSources(self):\n",
    "        return sum(1 for i in self.idxvalues)"
   ]
  },
  {
   "cell_type": "code",
   "execution_count": null,
   "metadata": {
    "collapsed": true
   },
   "outputs": [],
   "source": []
  },
  {
   "cell_type": "code",
   "execution_count": 73,
   "metadata": {
    "collapsed": true
   },
   "outputs": [],
   "source": [
    "gwpop = GWPopulation()"
   ]
  },
  {
   "cell_type": "code",
   "execution_count": 74,
   "metadata": {
    "collapsed": false
   },
   "outputs": [
    {
     "data": {
      "text/plain": [
       "{'maxDay': 50.0,\n",
       " 'minDay': 0.0,\n",
       " 'name': 'SED_FRDM_NSBH3.dat',\n",
       " 'rpeak': -11.4,\n",
       " 't0': 59853.0,\n",
       " 'z': 0.1}"
      ]
     },
     "execution_count": 74,
     "metadata": {},
     "output_type": "execute_result"
    }
   ],
   "source": [
    "# Each member of a population has a set of params\n",
    "gwpop.modelparams(0)"
   ]
  },
  {
   "cell_type": "code",
   "execution_count": 75,
   "metadata": {
    "collapsed": true
   },
   "outputs": [],
   "source": [
    "# This is a stop gap measure. We won't need to define this (will happen automatically)\n",
    "def modellc(model, pointings, rng=np.random.RandomState(0), idx=0):\n",
    "    bandpassdict = BandpassDict.loadTotalBandpassesFromFiles()\n",
    "    maxMJD = model.maxMjd\n",
    "    minMJD = model.minMjd\n",
    "    df = pointings.query('expMJD < @maxMJD and expMJD > @minMJD').copy()\n",
    "    sn = SNObject(ra=0., dec=0.)\n",
    "    numObs = len(df)\n",
    "    mFlux = np.zeros(len(df))\n",
    "    fluxerr = np.zeros(len(df))\n",
    "    \n",
    "    for i, rowtuples in enumerate(df.iterrows()):\n",
    "        row = rowtuples[1]\n",
    "        bp = 'lsst' + row['filter']\n",
    "        mFlux[i] = model.modelFlux(row['expMJD'], bandpassobj=bp)\n",
    "        fluxerr[i] = sn.catsimBandFluxError(time=row['expMJD'], \n",
    "                                            bandpassobject=bandpassdict[row['filter']],\n",
    "                                            fluxinMaggies=mFlux[i],\n",
    "                                            m5=row['fiveSigmaDepth'])\n",
    "    df.reset_index(inplace=True)\n",
    "    df['objid'] = np.ones(numObs)*np.int(idx)\n",
    "    df['objid'] = df.objid.astype(np.int)\n",
    "    df['fluxerr'] = fluxerr\n",
    "    deviations = rng.normal(size=len(df))\n",
    "    df['deviations'] = deviations\n",
    "    df['zp'] = 0.\n",
    "    df['ModelFlux'] = mFlux\n",
    "    df['flux'] = df['ModelFlux'] + df['deviations'] * df['fluxerr']\n",
    "    df['zpsys']= 'ab'\n",
    "    df['filter'] = df['filter'].apply(lambda x: 'LSST' + x)\n",
    "    #df['pid'] = self.pair_method(df.objid, df.obsHistID, self.maxObsHistID)\n",
    "    #df['pid'] = df.pid.astype(np.int)\n",
    "    lc = df[['obsHistID', 'objid', 'expMJD', 'filter', 'ModelFlux', 'fieldID', 'flux',\n",
    "                   'fluxerr', 'deviations', 'zp', 'zpsys']]\n",
    "    return lc    "
   ]
  },
  {
   "cell_type": "code",
   "execution_count": 76,
   "metadata": {
    "collapsed": false
   },
   "outputs": [],
   "source": [
    "gw0 = GWModel(cosmo)"
   ]
  },
  {
   "cell_type": "code",
   "execution_count": 77,
   "metadata": {
    "collapsed": false
   },
   "outputs": [
    {
     "name": "stdout",
     "output_type": "stream",
     "text": [
      "3.10902582139e-16\n"
     ]
    }
   ],
   "source": [
    "gw0.setModelParameters(gwpop.modelparams(0))"
   ]
  },
  {
   "cell_type": "code",
   "execution_count": 78,
   "metadata": {
    "collapsed": false
   },
   "outputs": [
    {
     "data": {
      "text/plain": [
       "0.1"
      ]
     },
     "execution_count": 78,
     "metadata": {},
     "output_type": "execute_result"
    }
   ],
   "source": [
    "gw0.z"
   ]
  },
  {
   "cell_type": "code",
   "execution_count": 79,
   "metadata": {
    "collapsed": false
   },
   "outputs": [
    {
     "data": {
      "text/plain": [
       "59853.0"
      ]
     },
     "execution_count": 79,
     "metadata": {},
     "output_type": "execute_result"
    }
   ],
   "source": [
    "gw0.t0"
   ]
  },
  {
   "cell_type": "code",
   "execution_count": 80,
   "metadata": {
    "collapsed": false
   },
   "outputs": [
    {
     "data": {
      "text/plain": [
       "3.1090258213932802e-16"
      ]
     },
     "execution_count": 80,
     "metadata": {},
     "output_type": "execute_result"
    }
   ],
   "source": [
    "gw0.amp"
   ]
  },
  {
   "cell_type": "code",
   "execution_count": 81,
   "metadata": {
    "collapsed": false
   },
   "outputs": [
    {
     "name": "stderr",
     "output_type": "stream",
     "text": [
      "/usr/local/miniconda/lib/python2.7/site-packages/ipykernel/__main__.py:1: RuntimeWarning: divide by zero encountered in log10\n",
      "  if __name__ == '__main__':\n"
     ]
    },
    {
     "data": {
      "text/plain": [
       "26.98516852432563"
      ]
     },
     "execution_count": 81,
     "metadata": {},
     "output_type": "execute_result"
    }
   ],
   "source": [
    "-2.5*np.log10(np.array(list(gw0.modelFlux(mjd=t, bandpassobj='lsstr') for t in np.arange(59850, 59880, 0.1)))).max()"
   ]
  },
  {
   "cell_type": "code",
   "execution_count": 82,
   "metadata": {
    "collapsed": false
   },
   "outputs": [
    {
     "data": {
      "text/plain": [
       "26.98516852432563"
      ]
     },
     "execution_count": 82,
     "metadata": {},
     "output_type": "execute_result"
    }
   ],
   "source": [
    "_x = gw0.gwmodel.bandmag('lsstr', 'ab', np.arange(59850, 59880, 0.1))\n",
    "_x[~np.isnan(_x)].min()"
   ]
  },
  {
   "cell_type": "code",
   "execution_count": 83,
   "metadata": {
    "collapsed": false
   },
   "outputs": [],
   "source": [
    "gw1 = GWModel(cosmo)"
   ]
  },
  {
   "cell_type": "code",
   "execution_count": 84,
   "metadata": {
    "collapsed": false
   },
   "outputs": [
    {
     "name": "stdout",
     "output_type": "stream",
     "text": [
      "3.61111183766e-16\n"
     ]
    }
   ],
   "source": [
    "gw1.setModelParameters(gwpop.modelparams(1))"
   ]
  },
  {
   "cell_type": "markdown",
   "metadata": {},
   "source": [
    "### Light Curves"
   ]
  },
  {
   "cell_type": "code",
   "execution_count": 85,
   "metadata": {
    "collapsed": false
   },
   "outputs": [],
   "source": [
    "wfdl_0 = modellc(gw0, pointings)\n",
    "ddfl_0 = modellc(gw0, ddfpointings)\n",
    "wfdlc_0 = ans.LightCurve(wfdl_0)\n",
    "ddflc_0 = ans.LightCurve(ddfl_0)"
   ]
  },
  {
   "cell_type": "code",
   "execution_count": 86,
   "metadata": {
    "collapsed": false
   },
   "outputs": [
    {
     "data": {
      "text/html": [
       "<div>\n",
       "<table border=\"1\" class=\"dataframe\">\n",
       "  <thead>\n",
       "    <tr style=\"text-align: right;\">\n",
       "      <th></th>\n",
       "      <th>obsHistID</th>\n",
       "      <th>objid</th>\n",
       "      <th>mjd</th>\n",
       "      <th>band</th>\n",
       "      <th>ModelFlux</th>\n",
       "      <th>fieldID</th>\n",
       "      <th>flux</th>\n",
       "      <th>fluxerr</th>\n",
       "      <th>deviations</th>\n",
       "      <th>zp</th>\n",
       "      <th>zpsys</th>\n",
       "    </tr>\n",
       "  </thead>\n",
       "  <tbody>\n",
       "    <tr>\n",
       "      <th>0</th>\n",
       "      <td>206395</td>\n",
       "      <td>0</td>\n",
       "      <td>59859.331850</td>\n",
       "      <td>LSSTi</td>\n",
       "      <td>2.240117e-12</td>\n",
       "      <td>1447</td>\n",
       "      <td>1.803576e-10</td>\n",
       "      <td>1.009706e-10</td>\n",
       "      <td>1.764052</td>\n",
       "      <td>0.0</td>\n",
       "      <td>ab</td>\n",
       "    </tr>\n",
       "    <tr>\n",
       "      <th>1</th>\n",
       "      <td>206328</td>\n",
       "      <td>0</td>\n",
       "      <td>59859.301390</td>\n",
       "      <td>LSSTi</td>\n",
       "      <td>2.286163e-12</td>\n",
       "      <td>1447</td>\n",
       "      <td>4.771233e-11</td>\n",
       "      <td>1.135208e-10</td>\n",
       "      <td>0.400157</td>\n",
       "      <td>0.0</td>\n",
       "      <td>ab</td>\n",
       "    </tr>\n",
       "    <tr>\n",
       "      <th>2</th>\n",
       "      <td>206364</td>\n",
       "      <td>0</td>\n",
       "      <td>59859.317719</td>\n",
       "      <td>LSSTi</td>\n",
       "      <td>2.261395e-12</td>\n",
       "      <td>1447</td>\n",
       "      <td>1.025972e-10</td>\n",
       "      <td>1.025154e-10</td>\n",
       "      <td>0.978738</td>\n",
       "      <td>0.0</td>\n",
       "      <td>ab</td>\n",
       "    </tr>\n",
       "    <tr>\n",
       "      <th>3</th>\n",
       "      <td>206305</td>\n",
       "      <td>0</td>\n",
       "      <td>59859.290999</td>\n",
       "      <td>LSSTi</td>\n",
       "      <td>2.302024e-12</td>\n",
       "      <td>1447</td>\n",
       "      <td>3.074590e-10</td>\n",
       "      <td>1.361765e-10</td>\n",
       "      <td>2.240893</td>\n",
       "      <td>0.0</td>\n",
       "      <td>ab</td>\n",
       "    </tr>\n",
       "    <tr>\n",
       "      <th>4</th>\n",
       "      <td>208053</td>\n",
       "      <td>0</td>\n",
       "      <td>59861.286978</td>\n",
       "      <td>LSSTy</td>\n",
       "      <td>6.333553e-12</td>\n",
       "      <td>1447</td>\n",
       "      <td>6.537193e-10</td>\n",
       "      <td>3.466483e-10</td>\n",
       "      <td>1.867558</td>\n",
       "      <td>0.0</td>\n",
       "      <td>ab</td>\n",
       "    </tr>\n",
       "  </tbody>\n",
       "</table>\n",
       "</div>"
      ],
      "text/plain": [
       "   obsHistID  objid           mjd   band     ModelFlux  fieldID          flux  \\\n",
       "0     206395      0  59859.331850  LSSTi  2.240117e-12     1447  1.803576e-10   \n",
       "1     206328      0  59859.301390  LSSTi  2.286163e-12     1447  4.771233e-11   \n",
       "2     206364      0  59859.317719  LSSTi  2.261395e-12     1447  1.025972e-10   \n",
       "3     206305      0  59859.290999  LSSTi  2.302024e-12     1447  3.074590e-10   \n",
       "4     208053      0  59861.286978  LSSTy  6.333553e-12     1447  6.537193e-10   \n",
       "\n",
       "        fluxerr  deviations   zp zpsys  \n",
       "0  1.009706e-10    1.764052  0.0    ab  \n",
       "1  1.135208e-10    0.400157  0.0    ab  \n",
       "2  1.025154e-10    0.978738  0.0    ab  \n",
       "3  1.361765e-10    2.240893  0.0    ab  \n",
       "4  3.466483e-10    1.867558  0.0    ab  "
      ]
     },
     "execution_count": 86,
     "metadata": {},
     "output_type": "execute_result"
    }
   ],
   "source": [
    "# light curve\n",
    "wfdlc_0.lightCurve.head()"
   ]
  },
  {
   "cell_type": "code",
   "execution_count": 87,
   "metadata": {
    "collapsed": false
   },
   "outputs": [
    {
     "data": {
      "text/html": [
       "<div>\n",
       "<table border=\"1\" class=\"dataframe\">\n",
       "  <thead>\n",
       "    <tr style=\"text-align: right;\">\n",
       "      <th></th>\n",
       "      <th>obsHistID</th>\n",
       "      <th>objid</th>\n",
       "      <th>mjd</th>\n",
       "      <th>band</th>\n",
       "      <th>ModelFlux</th>\n",
       "      <th>fieldID</th>\n",
       "      <th>flux</th>\n",
       "      <th>fluxerr</th>\n",
       "      <th>deviations</th>\n",
       "      <th>zp</th>\n",
       "      <th>zpsys</th>\n",
       "    </tr>\n",
       "  </thead>\n",
       "  <tbody>\n",
       "    <tr>\n",
       "      <th>0</th>\n",
       "      <td>233596</td>\n",
       "      <td>0</td>\n",
       "      <td>59902.081454</td>\n",
       "      <td>LSSTy</td>\n",
       "      <td>0.0</td>\n",
       "      <td>1427</td>\n",
       "      <td>NaN</td>\n",
       "      <td>NaN</td>\n",
       "      <td>-1.454366</td>\n",
       "      <td>0.0</td>\n",
       "      <td>ab</td>\n",
       "    </tr>\n",
       "    <tr>\n",
       "      <th>1</th>\n",
       "      <td>233597</td>\n",
       "      <td>0</td>\n",
       "      <td>59902.081871</td>\n",
       "      <td>LSSTy</td>\n",
       "      <td>0.0</td>\n",
       "      <td>1427</td>\n",
       "      <td>NaN</td>\n",
       "      <td>NaN</td>\n",
       "      <td>0.045759</td>\n",
       "      <td>0.0</td>\n",
       "      <td>ab</td>\n",
       "    </tr>\n",
       "    <tr>\n",
       "      <th>2</th>\n",
       "      <td>233598</td>\n",
       "      <td>0</td>\n",
       "      <td>59902.082287</td>\n",
       "      <td>LSSTy</td>\n",
       "      <td>0.0</td>\n",
       "      <td>1427</td>\n",
       "      <td>NaN</td>\n",
       "      <td>NaN</td>\n",
       "      <td>-0.187184</td>\n",
       "      <td>0.0</td>\n",
       "      <td>ab</td>\n",
       "    </tr>\n",
       "    <tr>\n",
       "      <th>3</th>\n",
       "      <td>233599</td>\n",
       "      <td>0</td>\n",
       "      <td>59902.082704</td>\n",
       "      <td>LSSTy</td>\n",
       "      <td>0.0</td>\n",
       "      <td>1427</td>\n",
       "      <td>NaN</td>\n",
       "      <td>NaN</td>\n",
       "      <td>1.532779</td>\n",
       "      <td>0.0</td>\n",
       "      <td>ab</td>\n",
       "    </tr>\n",
       "    <tr>\n",
       "      <th>4</th>\n",
       "      <td>233600</td>\n",
       "      <td>0</td>\n",
       "      <td>59902.083121</td>\n",
       "      <td>LSSTy</td>\n",
       "      <td>0.0</td>\n",
       "      <td>1427</td>\n",
       "      <td>NaN</td>\n",
       "      <td>NaN</td>\n",
       "      <td>1.469359</td>\n",
       "      <td>0.0</td>\n",
       "      <td>ab</td>\n",
       "    </tr>\n",
       "  </tbody>\n",
       "</table>\n",
       "</div>"
      ],
      "text/plain": [
       "   obsHistID  objid           mjd   band  ModelFlux  fieldID  flux  fluxerr  \\\n",
       "0     233596      0  59902.081454  LSSTy        0.0     1427   NaN      NaN   \n",
       "1     233597      0  59902.081871  LSSTy        0.0     1427   NaN      NaN   \n",
       "2     233598      0  59902.082287  LSSTy        0.0     1427   NaN      NaN   \n",
       "3     233599      0  59902.082704  LSSTy        0.0     1427   NaN      NaN   \n",
       "4     233600      0  59902.083121  LSSTy        0.0     1427   NaN      NaN   \n",
       "\n",
       "   deviations   zp zpsys  \n",
       "0   -1.454366  0.0    ab  \n",
       "1    0.045759  0.0    ab  \n",
       "2   -0.187184  0.0    ab  \n",
       "3    1.532779  0.0    ab  \n",
       "4    1.469359  0.0    ab  "
      ]
     },
     "execution_count": 87,
     "metadata": {},
     "output_type": "execute_result"
    }
   ],
   "source": [
    "# light curve\n",
    "ddflc_0.lightCurve.head()"
   ]
  },
  {
   "cell_type": "code",
   "execution_count": 88,
   "metadata": {
    "collapsed": false
   },
   "outputs": [
    {
     "ename": "NameError",
     "evalue": "name 'ddflc' is not defined",
     "output_type": "error",
     "traceback": [
      "\u001b[0;31m---------------------------------------------------------------------------\u001b[0m",
      "\u001b[0;31mNameError\u001b[0m                                 Traceback (most recent call last)",
      "\u001b[0;32m<ipython-input-88-7dc29d046df1>\u001b[0m in \u001b[0;36m<module>\u001b[0;34m()\u001b[0m\n\u001b[0;32m----> 1\u001b[0;31m \u001b[0mddflc\u001b[0m\u001b[0;34m.\u001b[0m\u001b[0mlightCurve\u001b[0m\u001b[0;34m.\u001b[0m\u001b[0mflux\u001b[0m\u001b[0;34m.\u001b[0m\u001b[0mdropna\u001b[0m\u001b[0;34m(\u001b[0m\u001b[0;34m)\u001b[0m\u001b[0;34m.\u001b[0m\u001b[0mapply\u001b[0m\u001b[0;34m(\u001b[0m\u001b[0;32mlambda\u001b[0m \u001b[0mx\u001b[0m\u001b[0;34m:\u001b[0m \u001b[0;34m-\u001b[0m\u001b[0;36m2.5\u001b[0m \u001b[0;34m*\u001b[0m\u001b[0mnp\u001b[0m\u001b[0;34m.\u001b[0m\u001b[0mlog10\u001b[0m\u001b[0;34m(\u001b[0m\u001b[0mx\u001b[0m\u001b[0;34m)\u001b[0m\u001b[0;34m)\u001b[0m\u001b[0;34m.\u001b[0m\u001b[0mdescribe\u001b[0m\u001b[0;34m(\u001b[0m\u001b[0;34m)\u001b[0m\u001b[0;34m\u001b[0m\u001b[0m\n\u001b[0m",
      "\u001b[0;31mNameError\u001b[0m: name 'ddflc' is not defined"
     ]
    }
   ],
   "source": [
    "ddflc.lightCurve.flux.dropna().apply(lambda x: -2.5 *np.log10(x)).describe()"
   ]
  },
  {
   "cell_type": "code",
   "execution_count": null,
   "metadata": {
    "collapsed": false
   },
   "outputs": [],
   "source": [
    "fig_ddf = sncosmo.plot_lc(ddflc_0.snCosmoLC(), color='k')"
   ]
  },
  {
   "cell_type": "code",
   "execution_count": null,
   "metadata": {
    "collapsed": false
   },
   "outputs": [],
   "source": [
    "fig_wfd = sncosmo.plot_lc(wfdlc_0.snCosmoLC(), color='k')"
   ]
  },
  {
   "cell_type": "code",
   "execution_count": null,
   "metadata": {
    "collapsed": false
   },
   "outputs": [],
   "source": [
    "fig_ddf.savefig('ddf_lc_0.png')\n",
    "fig_wfd.savefig('wfd_lc_0.png')"
   ]
  },
  {
   "cell_type": "code",
   "execution_count": null,
   "metadata": {
    "collapsed": true
   },
   "outputs": [],
   "source": [
    "wfdl_1 = modellc(gw1, pointings)\n",
    "ddfl_1 = modellc(gw1, ddfpointings)\n",
    "wfdlc_1 = ans.LightCurve(wfdl_1)\n",
    "ddflc_1 = ans.LightCurve(ddfl_1)"
   ]
  },
  {
   "cell_type": "code",
   "execution_count": 89,
   "metadata": {
    "collapsed": false
   },
   "outputs": [
    {
     "data": {
      "text/plain": [
       "0.3"
      ]
     },
     "execution_count": 89,
     "metadata": {},
     "output_type": "execute_result"
    }
   ],
   "source": [
    "gw1.z"
   ]
  },
  {
   "cell_type": "code",
   "execution_count": 90,
   "metadata": {
    "collapsed": false
   },
   "outputs": [
    {
     "data": {
      "image/png": "[encoded data removed]",
      "text/plain": [
       "<matplotlib.figure.Figure at 0x1521c0d90>"
      ]
     },
     "metadata": {},
     "output_type": "display_data"
    }
   ],
   "source": [
    "fig_ddf_1 = sncosmo.plot_lc(ddflc_1.snCosmoLC(), color='k')"
   ]
  },
  {
   "cell_type": "code",
   "execution_count": 91,
   "metadata": {
    "collapsed": false
   },
   "outputs": [
    {
     "data": {
      "image/png": "[encoded data removed]",
      "text/plain": [
       "<matplotlib.figure.Figure at 0x15c25d1d0>"
      ]
     },
     "metadata": {},
     "output_type": "display_data"
    }
   ],
   "source": [
    "fig_wfd_1 = sncosmo.plot_lc(wfdlc_1.snCosmoLC(), color='k')"
   ]
  },
  {
   "cell_type": "markdown",
   "metadata": {},
   "source": [
    "### Sanity Checks"
   ]
  },
  {
   "cell_type": "code",
   "execution_count": 92,
   "metadata": {
    "collapsed": false
   },
   "outputs": [
    {
     "data": {
      "text/plain": [
       "59853.0"
      ]
     },
     "execution_count": 92,
     "metadata": {},
     "output_type": "execute_result"
    }
   ],
   "source": [
    "gw0.t0"
   ]
  },
  {
   "cell_type": "code",
   "execution_count": 93,
   "metadata": {
    "collapsed": false
   },
   "outputs": [
    {
     "data": {
      "text/plain": [
       "0.1"
      ]
     },
     "execution_count": 93,
     "metadata": {},
     "output_type": "execute_result"
    }
   ],
   "source": [
    "gw0.z"
   ]
  },
  {
   "cell_type": "code",
   "execution_count": 94,
   "metadata": {
    "collapsed": false
   },
   "outputs": [
    {
     "data": {
      "text/plain": [
       "26.985168524327413"
      ]
     },
     "execution_count": 94,
     "metadata": {},
     "output_type": "execute_result"
    }
   ],
   "source": [
    "# r apparent mag peak\n",
    "-2.5 * np.log10(np.array(list(gw0.modelFlux(t, 'lsstr') for t in np.arange(59853., 59900, 0.1))).max())"
   ]
  },
  {
   "cell_type": "code",
   "execution_count": 95,
   "metadata": {
    "collapsed": false
   },
   "outputs": [
    {
     "data": {
      "text/latex": [
       "$38.385008 \\; \\mathrm{mag}$"
      ],
      "text/plain": [
       "<Quantity 38.385007834432244 mag>"
      ]
     },
     "execution_count": 95,
     "metadata": {},
     "output_type": "execute_result"
    }
   ],
   "source": [
    "# Let us neglect the k correction first. \n",
    "cosmo.distmod(z=0.1)"
   ]
  },
  {
   "cell_type": "code",
   "execution_count": 96,
   "metadata": {
    "collapsed": false
   },
   "outputs": [
    {
     "data": {
      "text/plain": [
       "27.0"
      ]
     },
     "execution_count": 96,
     "metadata": {},
     "output_type": "execute_result"
    }
   ],
   "source": [
    "-11.4 + 38.4"
   ]
  },
  {
   "cell_type": "markdown",
   "metadata": {},
   "source": [
    "## Scratch"
   ]
  },
  {
   "cell_type": "code",
   "execution_count": 38,
   "metadata": {
    "collapsed": false
   },
   "outputs": [
    {
     "name": "stdout",
     "output_type": "stream",
     "text": [
      "3.10902582139e-06\n"
     ]
    }
   ],
   "source": [
    "gw0.setModelParameters(gwpop.modelparams(0))"
   ]
  },
  {
   "cell_type": "code",
   "execution_count": 40,
   "metadata": {
    "collapsed": false
   },
   "outputs": [
    {
     "data": {
      "text/plain": [
       "3.1090258213932801e-06"
      ]
     },
     "execution_count": 40,
     "metadata": {},
     "output_type": "execute_result"
    }
   ],
   "source": [
    "gw0.gwmodel.source_peakabsmag"
   ]
  },
  {
   "cell_type": "code",
   "execution_count": 41,
   "metadata": {
    "collapsed": false
   },
   "outputs": [
    {
     "data": {
      "text/plain": [
       "inf"
      ]
     },
     "execution_count": 41,
     "metadata": {},
     "output_type": "execute_result"
    }
   ],
   "source": [
    "gw0.gwmodel.source_peakabsmag('lsstr','ab', )"
   ]
  },
  {
   "cell_type": "code",
   "execution_count": 37,
   "metadata": {
    "collapsed": false
   },
   "outputs": [
    {
     "data": {
      "text/plain": [
       "{'maxDay': 50.0,\n",
       " 'minDay': 0.0,\n",
       " 'name': 'SED_FRDM_NSBH3.dat',\n",
       " 'rpeak': -11.4,\n",
       " 't0': 59853.0,\n",
       " 'z': 0.1}"
      ]
     },
     "execution_count": 37,
     "metadata": {},
     "output_type": "execute_result"
    }
   ],
   "source": [
    "gwpop.modelparams(0)"
   ]
  },
  {
   "cell_type": "code",
   "execution_count": 99,
   "metadata": {
    "collapsed": false
   },
   "outputs": [
    {
     "data": {
      "text/plain": [
       "0.70246948398575948"
      ]
     },
     "execution_count": 99,
     "metadata": {},
     "output_type": "execute_result"
    }
   ],
   "source": [
    "gw.amp"
   ]
  },
  {
   "cell_type": "code",
   "execution_count": 108,
   "metadata": {
    "collapsed": false
   },
   "outputs": [],
   "source": [
    "x = -2.5 * np.log10(ddflc.lightCurve.query('ModelFlux > 0.').ModelFlux.dropna())"
   ]
  },
  {
   "cell_type": "code",
   "execution_count": 115,
   "metadata": {
    "collapsed": false
   },
   "outputs": [
    {
     "data": {
      "text/plain": [
       "-12.843011982048765"
      ]
     },
     "execution_count": 115,
     "metadata": {},
     "output_type": "execute_result"
    }
   ],
   "source": [
    "min(x)"
   ]
  },
  {
   "cell_type": "code",
   "execution_count": 111,
   "metadata": {
    "collapsed": false
   },
   "outputs": [],
   "source": [
    "from astropy.cosmology import Planck15 as cosmo"
   ]
  },
  {
   "cell_type": "code",
   "execution_count": 114,
   "metadata": {
    "collapsed": false
   },
   "outputs": [
    {
     "data": {
      "text/plain": [
       "26.985007834432245"
      ]
     },
     "execution_count": 114,
     "metadata": {},
     "output_type": "execute_result"
    }
   ],
   "source": [
    "cosmo.distmod(0.1).value -11.4 "
   ]
  },
  {
   "cell_type": "code",
   "execution_count": 117,
   "metadata": {
    "collapsed": false
   },
   "outputs": [
    {
     "data": {
      "text/plain": [
       "59853.0"
      ]
     },
     "execution_count": 117,
     "metadata": {},
     "output_type": "execute_result"
    }
   ],
   "source": [
    "gw.t0"
   ]
  },
  {
   "cell_type": "code",
   "execution_count": 121,
   "metadata": {
    "collapsed": false
   },
   "outputs": [
    {
     "data": {
      "text/plain": [
       "0.1"
      ]
     },
     "execution_count": 121,
     "metadata": {},
     "output_type": "execute_result"
    }
   ],
   "source": [
    "gw.z"
   ]
  },
  {
   "cell_type": "code",
   "execution_count": 178,
   "metadata": {
    "collapsed": false
   },
   "outputs": [
    {
     "data": {
      "text/plain": [
       "1.9851685243226562"
      ]
     },
     "execution_count": 178,
     "metadata": {},
     "output_type": "execute_result"
    }
   ],
   "source": [
    "gw.gwmodel.bandmag('lsstr', time=np.arange(59845, 59865, 0.1), magsys='ab').min()"
   ]
  },
  {
   "cell_type": "code",
   "execution_count": 179,
   "metadata": {
    "collapsed": false
   },
   "outputs": [],
   "source": [
    "mask = np.isnan(gw.source.bandmag('lsstr', phase=np.arange(-20, 50, 0.1), magsys='ab'))"
   ]
  },
  {
   "cell_type": "code",
   "execution_count": 131,
   "metadata": {
    "collapsed": false
   },
   "outputs": [
    {
     "data": {
      "text/plain": [
       "-11.783270653161615"
      ]
     },
     "execution_count": 131,
     "metadata": {},
     "output_type": "execute_result"
    }
   ],
   "source": [
    "gw.source.bandmag('lsstr', phase=np.arange(-20, 50, 0.1), magsys='ab')[~mask].min()"
   ]
  },
  {
   "cell_type": "code",
   "execution_count": 177,
   "metadata": {
    "collapsed": false
   },
   "outputs": [
    {
     "data": {
      "text/latex": [
       "$475.33694 \\; \\mathrm{Mpc}$"
      ],
      "text/plain": [
       "<Quantity 475.33694090281324 Mpc>"
      ]
     },
     "execution_count": 177,
     "metadata": {},
     "output_type": "execute_result"
    }
   ],
   "source": [
    "cosmo.luminosity_distance(0.1)"
   ]
  },
  {
   "cell_type": "code",
   "execution_count": null,
   "metadata": {
    "collapsed": true
   },
   "outputs": [],
   "source": []
  }
 ],
 "metadata": {
  "kernelspec": {
   "display_name": "Python [default]",
   "language": "python",
   "name": "python2"
  },
  "language_info": {
   "codemirror_mode": {
    "name": "ipython",
    "version": 2
   },
   "file_extension": ".py",
   "mimetype": "text/x-python",
   "name": "python",
   "nbconvert_exporter": "python",
   "pygments_lexer": "ipython2",
   "version": "2.7.12"
  }
 },
 "nbformat": 4,
 "nbformat_minor": 1
}
